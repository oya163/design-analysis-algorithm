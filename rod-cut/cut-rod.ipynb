{
 "cells": [
  {
   "cell_type": "code",
   "execution_count": 1,
   "metadata": {
    "collapsed": true
   },
   "outputs": [],
   "source": [
    "'''\n",
    "    Implementation of rod cutting problem\n",
    "    08/08/2017\n",
    "    Oyesh\n",
    "'''\n",
    "\n",
    "import sys\n",
    "import argparse\n",
    "\n",
    "# Minimum integer (from C++)\n",
    "INT_MIN = -32767\n",
    "\n",
    "# Price range for n = 1 to 10 inch length rod\n",
    "p = [1, 5, 8, 9, 10, 17, 17, 20, 24, 30]"
   ]
  },
  {
   "cell_type": "code",
   "execution_count": 12,
   "metadata": {
    "collapsed": false
   },
   "outputs": [
    {
     "data": {
      "text/plain": [
       "_StoreAction(option_strings=['-n'], dest='n', nargs=None, const=None, default=5, type=<class 'int'>, choices=None, help='number of pieces of rod (default: 5)', metavar='N')"
      ]
     },
     "execution_count": 12,
     "metadata": {},
     "output_type": "execute_result"
    }
   ],
   "source": [
    "parser = argparse.ArgumentParser(description = \"Rod cutting problem\")\n",
    "\n",
    "parser.add_argument('--arch','-a', metavar='ARCH', \n",
    "                    default='cut-rod', help='cut-rod | cut-rod-top-down | cut-rod-bottom-up | bottom-up-solution')\n",
    "\n",
    "parser.add_argument('-n', default = 5, type=int, metavar = 'N', help = 'number of pieces of rod (default: 5)')"
   ]
  },
  {
   "cell_type": "code",
   "execution_count": 13,
   "metadata": {
    "collapsed": true
   },
   "outputs": [],
   "source": [
    "# Inefficient implementation of rod-cutting\n",
    "# problem because of exponential running time\n",
    "\n",
    "def cut_rod(p, n):\n",
    "    if n == 0:\n",
    "        return 0\n",
    "    q = 0\n",
    "    for i in range (1,n):\n",
    "        q = max(q, p[i] + cut_rod(p, n-i-1))\n",
    "    return q"
   ]
  },
  {
   "cell_type": "code",
   "execution_count": 14,
   "metadata": {
    "collapsed": true
   },
   "outputs": [],
   "source": [
    "# Implementation of dynamic programming\n",
    "# top-down memoization approach\n",
    "\n",
    "# Helper function\n",
    "def memoized_cut_rod_aux(p, n, r):\n",
    "    # Returns the known value\n",
    "    if r[n] >= 0:\n",
    "        return r[n]\n",
    "    \n",
    "    # Calculates unknow value\n",
    "    if r[n] == 0:\n",
    "        q = 0\n",
    "    else:\n",
    "        q = INT_MIN\n",
    "        for i in range(n):\n",
    "            q = max(q, p[i] + memoized_cut_rod_aux(p, n-i-1, r))\n",
    "    \n",
    "    # Saves calulated value\n",
    "    r[n] = q\n",
    "    \n",
    "    return q\n",
    "        \n",
    "# Main function and initializes variable\n",
    "def memoized_cut_rod(p,n):\n",
    "    r = [INT_MIN for i in range(0,n+1)]\n",
    "    r[0] = 0\n",
    "    return memoized_cut_rod_aux(p,n,r)\n",
    "\n",
    "\n",
    "\n",
    "\n",
    "# Implementation of dynamic programming\n",
    "# bottom_up approach\n",
    "def bottom_up_cut_rod(p, n):\n",
    "    r = [INT_MIN for i in range(0, n+1)]\n",
    "    r[0] = 0\n",
    "    for j in range(1,n+1):\n",
    "        q = INT_MIN\n",
    "        for i in range(j):\n",
    "            q = max(q, p[i] + r[j-i-1])\n",
    "        r[j] = q\n",
    "    \n",
    "    return r[n]\n",
    "\n"
   ]
  },
  {
   "cell_type": "code",
   "execution_count": 15,
   "metadata": {
    "collapsed": false
   },
   "outputs": [
    {
     "name": "stdout",
     "output_type": "stream",
     "text": [
      "25\n",
      "3\n",
      "6\n"
     ]
    }
   ],
   "source": [
    "# Implementation of dynamic programming\n",
    "# bottom_up approach with solution\n",
    "def bottom_up_cut_rod_solution(p,n):\n",
    "    r = [0 for i in range(0, n+1)]\n",
    "    s = [0 for i in range(0, n+1)]\n",
    "    r[0] = 0\n",
    "    s[0] = 0\n",
    "    for j in range (1, n+1):\n",
    "        q = INT_MIN\n",
    "        for i in range(j):\n",
    "            if q < p[i] + r[j-i-1]:\n",
    "                q = p[i] + r[j-i-1]\n",
    "                s[j] = i+1\n",
    "        r[j] = q\n",
    "    return r,s\n",
    "            \n",
    "\n",
    "def print_cut_rod_solution(p, n):\n",
    "    r,s = bottom_up_cut_rod_solution(p, n)\n",
    "    print(r[n])\n",
    "\n",
    "    while n-1 > 0:\n",
    "        print(s[n])\n",
    "        n = n - s[n]\n",
    "\n",
    "print_cut_rod_solution(p, 9)"
   ]
  },
  {
   "cell_type": "code",
   "execution_count": 16,
   "metadata": {
    "collapsed": false
   },
   "outputs": [],
   "source": [
    "def main():\n",
    "    global args\n",
    "    args = parser.parse_args()\n",
    "    \n",
    "    n = args.n\n",
    "    \n",
    "    if args.arch == 'cut-rod':\n",
    "        print ('Using default')\n",
    "        print('Result from inefficient algorithm : %d' % cut_rod(p,args.n))\n",
    "    elif args.arch == 'cut-rod-top-down':\n",
    "        print('Result from dynamic programming (top-down) : %d' % memoized_cut_rod(p, args.n))\n",
    "    elif args.arch == 'cut-rod-bottom-up':\n",
    "        print('Result from dynamic programming (bottom-up) : %d' % bottom_up_cut_rod(p, args.n))\n",
    "    elif args.arch == 'bottom-up-solution':\n",
    "        print('Solution of dynamic programming (bottom-up) :')\n",
    "        print_cut_rod_solution(p, args.n)\n",
    "    else:\n",
    "        print(parser.usage())"
   ]
  },
  {
   "cell_type": "code",
   "execution_count": 17,
   "metadata": {
    "collapsed": false
   },
   "outputs": [
    {
     "name": "stderr",
     "output_type": "stream",
     "text": [
      "usage: __main__.py [-h] [--arch ARCH] [-n N]\n",
      "__main__.py: error: unrecognized arguments: -f /run/user/1000/jupyter/kernel-1b8a3c44-a837-45c2-8c41-eb4560656ec2.json\n"
     ]
    },
    {
     "ename": "SystemExit",
     "evalue": "2",
     "output_type": "error",
     "traceback": [
      "An exception has occurred, use %tb to see the full traceback.\n",
      "\u001b[0;31mSystemExit\u001b[0m\u001b[0;31m:\u001b[0m 2\n"
     ]
    },
    {
     "name": "stderr",
     "output_type": "stream",
     "text": [
      "/home/oyashi/anaconda3/lib/python3.6/site-packages/IPython/core/interactiveshell.py:2889: UserWarning: To exit: use 'exit', 'quit', or Ctrl-D.\n",
      "  warn(\"To exit: use 'exit', 'quit', or Ctrl-D.\", stacklevel=1)\n"
     ]
    }
   ],
   "source": [
    "if __name__ == \"__main__\":\n",
    "    main()"
   ]
  }
 ],
 "metadata": {
  "kernelspec": {
   "display_name": "Python 3",
   "language": "python",
   "name": "python3"
  },
  "language_info": {
   "codemirror_mode": {
    "name": "ipython",
    "version": 3
   },
   "file_extension": ".py",
   "mimetype": "text/x-python",
   "name": "python",
   "nbconvert_exporter": "python",
   "pygments_lexer": "ipython3",
   "version": "3.6.0"
  }
 },
 "nbformat": 4,
 "nbformat_minor": 2
}

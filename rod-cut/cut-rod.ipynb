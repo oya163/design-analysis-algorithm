{
 "cells": [
  {
   "cell_type": "code",
   "execution_count": 2,
   "metadata": {
    "collapsed": true
   },
   "outputs": [],
   "source": [
    "'''\n",
    "    Implementation of rod cutting problem\n",
    "    08/08/2017\n",
    "    Oyesh\n",
    "'''\n",
    "\n",
    "import sys\n",
    "import argparse\n",
    "\n",
    "# Minimum integer (from C++)\n",
    "INT_MIN = -32767\n",
    "\n",
    "# Price range for n = 1 to 10 inch length rod\n",
    "p = [1, 5, 8, 9, 10, 17, 17, 20, 24, 30]"
   ]
  },
  {
   "cell_type": "code",
   "execution_count": 3,
   "metadata": {
    "collapsed": false
   },
   "outputs": [
    {
     "data": {
      "text/plain": [
       "_StoreAction(option_strings=['-n'], dest='n', nargs=None, const=None, default=5, type=<class 'int'>, choices=None, help='number of pieces of rod (default: 5)', metavar='N')"
      ]
     },
     "execution_count": 3,
     "metadata": {},
     "output_type": "execute_result"
    }
   ],
   "source": [
    "parser = argparse.ArgumentParser(description = \"Rod cutting problem\")\n",
    "\n",
    "parser.add_argument('--arch','-a', metavar='ARCH', \n",
    "                    default='cut-rod', help='cut-rod | cut-rod-top-down | cut-rod-bottom-up')\n",
    "\n",
    "parser.add_argument('-n', default = 5, type=int, metavar = 'N', help = 'number of pieces of rod (default: 5)')"
   ]
  },
  {
   "cell_type": "code",
   "execution_count": 4,
   "metadata": {
    "collapsed": true
   },
   "outputs": [],
   "source": [
    "# Inefficient implementation of rod-cutting\n",
    "# problem because of exponential running time\n",
    "\n",
    "def cut_rod(p, n):\n",
    "    if n == 0:\n",
    "        return 0\n",
    "    q = 0\n",
    "    for i in range (1,n):\n",
    "        q = max(q, p[i] + cut_rod(p, n-i-1))\n",
    "    return q"
   ]
  },
  {
   "cell_type": "code",
   "execution_count": 5,
   "metadata": {
    "collapsed": true
   },
   "outputs": [],
   "source": [
    "# Implementation of dynamic programming\n",
    "# top-down memoization approach\n",
    "\n",
    "# Helper function\n",
    "def memoized_cut_rod_aux(p, n, r):\n",
    "    # Returns the known value\n",
    "    if r[n] >= 0:\n",
    "        return r[n]\n",
    "    \n",
    "    # Calculates unknow value\n",
    "    if r[n] == 0:\n",
    "        q = 0\n",
    "    else:\n",
    "        q = INT_MIN\n",
    "        for i in range(n):\n",
    "            q = max(q, p[i] + memoized_cut_rod_aux(p, n-i-1, r))\n",
    "    \n",
    "    # Saves calulated value\n",
    "    r[n] = q\n",
    "    \n",
    "    return q\n",
    "        \n",
    "# Main function and initializes variable\n",
    "def memoized_cut_rod(p,n):\n",
    "    r = [INT_MIN for i in range(0,n+1)]\n",
    "    r[0] = 0\n",
    "    return memoized_cut_rod_aux(p,n,r)\n",
    "\n",
    "\n",
    "\n",
    "\n",
    "# Implementation of dynamic programming\n",
    "# bottom_up approach\n",
    "def bottom_up_cut_rod(p, n):\n",
    "    r = [INT_MIN for i in range(0, n+1)]\n",
    "    r[0] = 0\n",
    "    for j in range(1,n+1):\n",
    "        q = INT_MIN\n",
    "        for i in range(j):\n",
    "            q = max(q, p[i] + r[j-i-1])\n",
    "        r[j] = q\n",
    "    \n",
    "    return r[n]\n",
    "\n"
   ]
  },
  {
   "cell_type": "code",
   "execution_count": 7,
   "metadata": {
    "collapsed": false
   },
   "outputs": [],
   "source": [
    "def main():\n",
    "    global args\n",
    "    args = parser.parse_args()\n",
    "    \n",
    "    n = args.n\n",
    "    \n",
    "    if args.arch == 'cut-rod':\n",
    "        print ('Using default')\n",
    "        print('Result from inefficient algorithm : %d' % cut_rod(p,args.n))\n",
    "    elif args.arch == 'cut-rod-top-down':\n",
    "        print('Result from dynamic programming (top-down) : %d' % memoized_cut_rod(p, args.n))\n",
    "    elif args.arch == 'cut-rod-bottom-up':\n",
    "        print('Result from dynamic programming (bottom-up) : %d' % bottom_up_cut_rod(p, args.n))\n",
    "    else:\n",
    "        print(parser.usage())"
   ]
  },
  {
   "cell_type": "code",
   "execution_count": 1,
   "metadata": {
    "collapsed": false
   },
   "outputs": [],
   "source": [
    "# if __name__ == \"__main__\":\n",
    "#     main()"
   ]
  },
  {
   "cell_type": "code",
   "execution_count": 112,
   "metadata": {
    "collapsed": true
   },
   "outputs": [],
   "source": [
    "# Implementation of dynamic programming\n",
    "# bottom_up approach with solution\n",
    "def bottom_up_cut_rod_solution(p,n):\n",
    "    r = [0 for i in range(0, n+1)]\n",
    "    s = [0 for i in range(0, n+1)]\n",
    "    r[0] = 0\n",
    "    s[0] = 0\n",
    "    for j in range (1, n+1):\n",
    "        q = INT_MIN\n",
    "        for i in range(j):\n",
    "            if q < p[i] + r[j-i-1]:\n",
    "                q = p[i] + r[j-i-1]\n",
    "                s[j] = i+1\n",
    "        r[j] = q\n",
    "    return r,s\n",
    "            \n",
    "\n",
    "def print_cut_rod_solution(p, n):\n",
    "    r,s = bottom_up_cut_rod_solution(p, n)\n",
    "    print(r[n])\n",
    "\n",
    "    while n-1 > 0:\n",
    "        print(s[n])\n",
    "        n = n - s[n]\n",
    "\n",
    "print_cut_rod_solution(p, 9)"
   ]
  },
  {
   "cell_type": "code",
   "execution_count": null,
   "metadata": {
    "collapsed": true
   },
   "outputs": [],
   "source": []
  }
 ],
 "metadata": {
  "kernelspec": {
   "display_name": "Python 3",
   "language": "python",
   "name": "python3"
  },
  "language_info": {
   "codemirror_mode": {
    "name": "ipython",
    "version": 3
   },
   "file_extension": ".py",
   "mimetype": "text/x-python",
   "name": "python",
   "nbconvert_exporter": "python",
   "pygments_lexer": "ipython3",
   "version": "3.6.0"
  }
 },
 "nbformat": 4,
 "nbformat_minor": 2
}
